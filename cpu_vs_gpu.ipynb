{
 "cells": [
  {
   "cell_type": "code",
   "execution_count": null,
   "metadata": {
    "colab": {
     "base_uri": "https://localhost:8080/",
     "height": 35
    },
    "colab_type": "code",
    "id": "1ddgCM_qEHZa",
    "outputId": "9df5f286-0b1c-40a7-bc07-17a765c861b7"
   },
   "outputs": [],
   "source": []
  },
  {
   "cell_type": "code",
   "execution_count": 1,
   "metadata": {
    "colab": {},
    "colab_type": "code",
    "id": "R8_IiKZZEU9i"
   },
   "outputs": [],
   "source": [
    "import torch\n",
    "import numpy as np\n",
    "import matplotlib.pyplot as plt\n",
    "from time import time\n",
    "from kmeans_pytorch import kmeans, kmeans_predict"
   ]
  },
  {
   "cell_type": "code",
   "execution_count": 2,
   "metadata": {
    "colab": {},
    "colab_type": "code",
    "id": "iyoljrh1FCxJ"
   },
   "outputs": [],
   "source": [
    "# set random seed\n",
    "np.random.seed(123)"
   ]
  },
  {
   "cell_type": "code",
   "execution_count": 3,
   "metadata": {
    "colab": {},
    "colab_type": "code",
    "id": "tcnoTA16FHbJ"
   },
   "outputs": [],
   "source": [
    "# dimensions, num clusters\n",
    "dims, num_clusters = 2, 3\n",
    "\n",
    "# data sizes\n",
    "data_sizes = [100000, 1000000, 5000000, 10000000]"
   ]
  },
  {
   "cell_type": "code",
   "execution_count": null,
   "metadata": {
    "colab": {
     "base_uri": "https://localhost:8080/",
     "height": 1000
    },
    "colab_type": "code",
    "id": "Ar-lcW3OFTXI",
    "outputId": "056052bc-899e-45d9-f0f4-243eaac69764"
   },
   "outputs": [
    {
     "name": "stdout",
     "output_type": "stream",
     "text": [
      "\n",
      "data size: 100000\n",
      "running k-means on cuda:0..\n"
     ]
    },
    {
     "name": "stderr",
     "output_type": "stream",
     "text": [
      "[running kmeans]: 5it [00:00, 526.09it/s, center_shift=0.000058, iteration=6, tol=0.000100]\n",
      "[running kmeans]: 0it [00:00, ?it/s]\u001b[A\n",
      "[running kmeans]: 0it [00:00, ?it/s, center_shift=0.177575, iteration=1, tol=0.000100]\u001b[A\n",
      "[running kmeans]: 1it [00:00, 45.69it/s, center_shift=0.011549, iteration=2, tol=0.000100]\u001b[A\n",
      "[running kmeans]: 2it [00:00, 60.96it/s, center_shift=0.003620, iteration=3, tol=0.000100]\u001b[A\n",
      "[running kmeans]: 6it [00:00, 101.05it/s, center_shift=0.000058, iteration=6, tol=0.000100][A\n",
      "\n"
     ]
    },
    {
     "name": "stdout",
     "output_type": "stream",
     "text": [
      "gpu time: 1.8084242343902588\n",
      "running k-means on cpu..\n"
     ]
    },
    {
     "name": "stderr",
     "output_type": "stream",
     "text": [
      "[running kmeans]: 4it [00:10,  2.51s/it, center_shift=0.000406, iteration=5, tol=0.000100]\u001b[A\n",
      "[running kmeans]: 5it [00:10,  2.01s/it, center_shift=0.000406, iteration=5, tol=0.000100]\u001b[A\n",
      "[running kmeans]: 5it [00:10,  2.01s/it, center_shift=0.000131, iteration=6, tol=0.000100]\u001b[A\n",
      "[running kmeans]: 6it [00:00, 646.77it/s, center_shift=0.000070, iteration=7, tol=0.000100][A\n",
      "\n",
      "[running kmeans]: 0it [00:00, ?it/s]\u001b[A\u001b[A\n",
      "\n",
      "[running kmeans]: 0it [00:00, ?it/s, center_shift=0.023596, iteration=1, tol=0.000100]\u001b[A\u001b[A"
     ]
    },
    {
     "name": "stdout",
     "output_type": "stream",
     "text": [
      "cpu time: 10.079203367233276\n",
      "\n",
      "data size: 1000000\n",
      "running k-means on cuda:0..\n",
      "gpu time: 0.02549600601196289\n",
      "running k-means on cpu..\n"
     ]
    },
    {
     "name": "stderr",
     "output_type": "stream",
     "text": [
      "\n",
      "\n",
      "[running kmeans]: 1it [00:00,  5.52it/s, center_shift=0.009139, iteration=2, tol=0.000100]\u001b[A\u001b[A\n",
      "\n",
      "[running kmeans]: 2it [00:00, 10.99it/s, center_shift=0.009139, iteration=2, tol=0.000100]\u001b[A\u001b[A\n",
      "\n",
      "[running kmeans]: 2it [00:00, 10.99it/s, center_shift=0.001774, iteration=3, tol=0.000100]\u001b[A\u001b[A\n",
      "\n",
      "[running kmeans]: 3it [00:00, 10.99it/s, center_shift=0.000496, iteration=4, tol=0.000100]\u001b[A\u001b[A\n",
      "\n",
      "[running kmeans]: 4it [00:00, 11.38it/s, center_shift=0.000496, iteration=4, tol=0.000100]\u001b[A\u001b[A\n",
      "\n",
      "[running kmeans]: 4it [00:00, 11.38it/s, center_shift=0.000161, iteration=5, tol=0.000100]\u001b[A\u001b[A\n",
      "\n",
      "[running kmeans]: 5it [00:00, 11.38it/s, center_shift=0.000054, iteration=6, tol=0.000100]\u001b[A\u001b[A\n",
      "\n",
      "[running kmeans]: 6it [00:00, 11.52it/s, center_shift=0.000054, iteration=6, tol=0.000100]\u001b[A\u001b[A"
     ]
    },
    {
     "name": "stdout",
     "output_type": "stream",
     "text": [
      "cpu time: 0.5440974235534668\n",
      "\n",
      "data size: 5000000\n"
     ]
    },
    {
     "name": "stderr",
     "output_type": "stream",
     "text": [
      "\n",
      "\n",
      "\n",
      "[running kmeans]: 0it [00:00, ?it/s]\u001b[A\u001b[A\u001b[A\n",
      "\n",
      "\n",
      "[running kmeans]: 0it [00:00, ?it/s, center_shift=0.065726, iteration=1, tol=0.000100]\u001b[A\u001b[A\u001b[A\n",
      "\n",
      "\n",
      "[running kmeans]: 1it [00:00, 179.05it/s, center_shift=0.001263, iteration=2, tol=0.000100]\u001b[A\u001b[A\u001b[A\n",
      "\n",
      "\n",
      "[running kmeans]: 2it [00:00, 219.15it/s, center_shift=0.000347, iteration=3, tol=0.000100]\u001b[A\u001b[A\u001b[A\n",
      "\n",
      "\n",
      "[running kmeans]: 3it [00:00, 231.04it/s, center_shift=0.000114, iteration=4, tol=0.000100]\u001b[A\u001b[A\u001b[A\n",
      "\n",
      "\n",
      "[running kmeans]: 4it [00:00, 228.01it/s, center_shift=0.000037, iteration=5, tol=0.000100]\u001b[A\u001b[A\u001b[A"
     ]
    },
    {
     "name": "stdout",
     "output_type": "stream",
     "text": [
      "running k-means on cuda:0..\n",
      "gpu time: 0.18250060081481934\n",
      "running k-means on cpu..\n"
     ]
    },
    {
     "name": "stderr",
     "output_type": "stream",
     "text": [
      "\n",
      "\n",
      "\n",
      "\n",
      "[running kmeans]: 0it [00:00, ?it/s]\u001b[A\u001b[A\u001b[A\u001b[A\n",
      "\n",
      "\n",
      "\n",
      "[running kmeans]: 0it [00:00, ?it/s, center_shift=0.069426, iteration=1, tol=0.000100]\u001b[A\u001b[A\u001b[A\u001b[A\n",
      "\n",
      "\n",
      "\n",
      "[running kmeans]: 1it [00:00,  2.44it/s, center_shift=0.069426, iteration=1, tol=0.000100]\u001b[A\u001b[A\u001b[A\u001b[A"
     ]
    }
   ],
   "source": [
    "gpu_times = []\n",
    "cpu_times = []\n",
    "\n",
    "for data_size in data_sizes:\n",
    "    print(f'\\ndata size: {data_size}')\n",
    "\n",
    "    # data\n",
    "    x = np.random.randn(data_size, dims) / 6\n",
    "    x = torch.from_numpy(x)\n",
    "\n",
    "    # gpu\n",
    "    start_gpu = time()\n",
    "    kmeans_gpu = kmeans(X=x, num_clusters=num_clusters, device=torch.device('cuda:0'))\n",
    "    gpu_time = time() - start_gpu\n",
    "    gpu_times.append(gpu_time)\n",
    "    print(f'gpu time: {gpu_time}')\n",
    "    \n",
    "    # cpu\n",
    "    start_cpu = time()\n",
    "    kmeans_cpu = kmeans(X=x, num_clusters=num_clusters, device=torch.device('cpu'))\n",
    "    cpu_time = time() - start_cpu\n",
    "    cpu_times.append(cpu_time)\n",
    "    print(f'cpu time: {cpu_time}')"
   ]
  },
  {
   "cell_type": "code",
   "execution_count": 5,
   "metadata": {
    "colab": {
     "base_uri": "https://localhost:8080/",
     "height": 484
    },
    "colab_type": "code",
    "id": "5V0vxpaUEnFd",
    "outputId": "27b8d6ed-07b3-4c8f-af8b-19d24f542378"
   },
   "outputs": [
    {
     "name": "stderr",
     "output_type": "stream",
     "text": [
      "[running kmeans]: 7it [00:25,  3.70s/it, center_shift=0.000070, iteration=7, tol=0.000100]\n",
      "[running kmeans]: 6it [00:25,  4.22s/it, center_shift=0.000054, iteration=6, tol=0.000100]\n",
      "[running kmeans]: 5it [00:24,  4.87s/it, center_shift=0.000037, iteration=5, tol=0.000100]\n",
      "[running kmeans]: 6it [00:22,  3.67s/it, center_shift=0.000051, iteration=6, tol=0.000100]\n",
      "[running kmeans]: 6it [00:18,  3.08s/it, center_shift=0.000044, iteration=6, tol=0.000100]\n",
      "[running kmeans]: 7it [00:13,  1.87s/it, center_shift=0.000047, iteration=7, tol=0.000100]\n"
     ]
    },
    {
     "data": {
      "image/png": "[encoded data removed]",
      "text/plain": [
       "<Figure size 960x480 with 1 Axes>"
      ]
     },
     "metadata": {
      "needs_background": "light"
     },
     "output_type": "display_data"
    },
    {
     "name": "stderr",
     "output_type": "stream",
     "text": [
      "[running kmeans]: 7it [00:26,  3.74s/it, center_shift=0.000048, iteration=7, tol=0.000100]\n"
     ]
    }
   ],
   "source": [
    "# plot\n",
    "plt.figure(figsize=(6, 3), dpi=160)\n",
    "plt.plot(data_sizes, gpu_times, marker='o', label='gpu', color='xkcd:vermillion')\n",
    "plt.plot(data_sizes, cpu_times, marker='o', label='cpu', color='xkcd:neon blue')\n",
    "plt.xticks(data_sizes)\n",
    "plt.legend(fontsize=12)\n",
    "plt.grid(alpha=0.2)\n",
    "plt.xlabel('data size', fontsize=14)\n",
    "plt.ylabel('time (s)', fontsize=14)\n",
    "plt.show()"
   ]
  },
  {
   "cell_type": "code",
   "execution_count": null,
   "metadata": {
    "colab": {},
    "colab_type": "code",
    "id": "BHkQ-zw9EnsN"
   },
   "outputs": [],
   "source": []
  }
 ],
 "metadata": {
  "accelerator": "GPU",
  "colab": {
   "collapsed_sections": [],
   "name": "cpu_vs_gpu.ipynb",
   "provenance": []
  },
  "kernelspec": {
   "display_name": "Python 3",
   "language": "python",
   "name": "python3"
  },
  "language_info": {
   "codemirror_mode": {
    "name": "ipython",
    "version": 3
   },
   "file_extension": ".py",
   "mimetype": "text/x-python",
   "name": "python",
   "nbconvert_exporter": "python",
   "pygments_lexer": "ipython3",
   "version": "3.8.6"
  }
 },
 "nbformat": 4,
 "nbformat_minor": 4
}
